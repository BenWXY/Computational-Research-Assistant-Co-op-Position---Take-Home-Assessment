{
 "cells": [
  {
   "cell_type": "code",
   "execution_count": 222,
   "metadata": {},
   "outputs": [],
   "source": [
    "import geopandas as gpd\n",
    "import pulp as pl\n",
    "import matplotlib.pyplot as plt\n",
    "import matplotlib.patches as mpatches"
   ]
  },
  {
   "cell_type": "code",
   "execution_count": 223,
   "metadata": {},
   "outputs": [
    {
     "name": "stdout",
     "output_type": "stream",
     "text": [
      "Index(['parcel_id', 'carbon_sto', 'cost', 'geometry'], dtype='object')\n"
     ]
    }
   ],
   "source": [
    "# Read the shapefile into a GeoDataFrame\n",
    "gdf = gpd.read_file('land_parcels.shp')\n",
    "print(gdf.columns)"
   ]
  },
  {
   "cell_type": "code",
   "execution_count": 224,
   "metadata": {},
   "outputs": [
    {
     "data": {
      "text/html": [
       "<div>\n",
       "<style scoped>\n",
       "    .dataframe tbody tr th:only-of-type {\n",
       "        vertical-align: middle;\n",
       "    }\n",
       "\n",
       "    .dataframe tbody tr th {\n",
       "        vertical-align: top;\n",
       "    }\n",
       "\n",
       "    .dataframe thead th {\n",
       "        text-align: right;\n",
       "    }\n",
       "</style>\n",
       "<table border=\"1\" class=\"dataframe\">\n",
       "  <thead>\n",
       "    <tr style=\"text-align: right;\">\n",
       "      <th></th>\n",
       "      <th>parcel_id</th>\n",
       "      <th>carbon_sto</th>\n",
       "      <th>cost</th>\n",
       "      <th>geometry</th>\n",
       "    </tr>\n",
       "  </thead>\n",
       "  <tbody>\n",
       "    <tr>\n",
       "      <th>0</th>\n",
       "      <td>0</td>\n",
       "      <td>57.050444</td>\n",
       "      <td>4706.178160</td>\n",
       "      <td>POLYGON ((-95.0285 49.00837, -95.02067 49.0904...</td>\n",
       "    </tr>\n",
       "    <tr>\n",
       "      <th>1</th>\n",
       "      <td>1</td>\n",
       "      <td>28.383328</td>\n",
       "      <td>3722.863104</td>\n",
       "      <td>POLYGON ((-94.91661 48.9865, -94.9098 49.12743...</td>\n",
       "    </tr>\n",
       "    <tr>\n",
       "      <th>2</th>\n",
       "      <td>2</td>\n",
       "      <td>31.481736</td>\n",
       "      <td>2281.036311</td>\n",
       "      <td>POLYGON ((-94.7894 49.01419, -94.8242 49.07556...</td>\n",
       "    </tr>\n",
       "    <tr>\n",
       "      <th>3</th>\n",
       "      <td>3</td>\n",
       "      <td>70.452120</td>\n",
       "      <td>1849.986859</td>\n",
       "      <td>POLYGON ((-94.72478 49.02353, -94.69378 49.120...</td>\n",
       "    </tr>\n",
       "    <tr>\n",
       "      <th>4</th>\n",
       "      <td>4</td>\n",
       "      <td>38.455948</td>\n",
       "      <td>3883.390216</td>\n",
       "      <td>POLYGON ((-94.62821 48.99532, -94.58622 49.118...</td>\n",
       "    </tr>\n",
       "    <tr>\n",
       "      <th>...</th>\n",
       "      <td>...</td>\n",
       "      <td>...</td>\n",
       "      <td>...</td>\n",
       "      <td>...</td>\n",
       "    </tr>\n",
       "    <tr>\n",
       "      <th>95</th>\n",
       "      <td>95</td>\n",
       "      <td>25.829801</td>\n",
       "      <td>4810.847190</td>\n",
       "      <td>POLYGON ((-94.47088 49.89274, -94.51885 49.974...</td>\n",
       "    </tr>\n",
       "    <tr>\n",
       "      <th>96</th>\n",
       "      <td>96</td>\n",
       "      <td>56.616198</td>\n",
       "      <td>725.982733</td>\n",
       "      <td>POLYGON ((-94.38296 49.88591, -94.38949 50.005...</td>\n",
       "    </tr>\n",
       "    <tr>\n",
       "      <th>97</th>\n",
       "      <td>97</td>\n",
       "      <td>32.427845</td>\n",
       "      <td>4317.513563</td>\n",
       "      <td>POLYGON ((-94.30462 49.8973, -94.32281 49.9841...</td>\n",
       "    </tr>\n",
       "    <tr>\n",
       "      <th>98</th>\n",
       "      <td>98</td>\n",
       "      <td>51.081564</td>\n",
       "      <td>4106.374708</td>\n",
       "      <td>POLYGON ((-94.17027 49.92744, -94.21523 50.023...</td>\n",
       "    </tr>\n",
       "    <tr>\n",
       "      <th>99</th>\n",
       "      <td>99</td>\n",
       "      <td>70.081996</td>\n",
       "      <td>4945.516039</td>\n",
       "      <td>POLYGON ((-94.0869 49.90335, -94.09284 50.0056...</td>\n",
       "    </tr>\n",
       "  </tbody>\n",
       "</table>\n",
       "<p>100 rows × 4 columns</p>\n",
       "</div>"
      ],
      "text/plain": [
       "    parcel_id  carbon_sto         cost  \\\n",
       "0           0   57.050444  4706.178160   \n",
       "1           1   28.383328  3722.863104   \n",
       "2           2   31.481736  2281.036311   \n",
       "3           3   70.452120  1849.986859   \n",
       "4           4   38.455948  3883.390216   \n",
       "..        ...         ...          ...   \n",
       "95         95   25.829801  4810.847190   \n",
       "96         96   56.616198   725.982733   \n",
       "97         97   32.427845  4317.513563   \n",
       "98         98   51.081564  4106.374708   \n",
       "99         99   70.081996  4945.516039   \n",
       "\n",
       "                                             geometry  \n",
       "0   POLYGON ((-95.0285 49.00837, -95.02067 49.0904...  \n",
       "1   POLYGON ((-94.91661 48.9865, -94.9098 49.12743...  \n",
       "2   POLYGON ((-94.7894 49.01419, -94.8242 49.07556...  \n",
       "3   POLYGON ((-94.72478 49.02353, -94.69378 49.120...  \n",
       "4   POLYGON ((-94.62821 48.99532, -94.58622 49.118...  \n",
       "..                                                ...  \n",
       "95  POLYGON ((-94.47088 49.89274, -94.51885 49.974...  \n",
       "96  POLYGON ((-94.38296 49.88591, -94.38949 50.005...  \n",
       "97  POLYGON ((-94.30462 49.8973, -94.32281 49.9841...  \n",
       "98  POLYGON ((-94.17027 49.92744, -94.21523 50.023...  \n",
       "99  POLYGON ((-94.0869 49.90335, -94.09284 50.0056...  \n",
       "\n",
       "[100 rows x 4 columns]"
      ]
     },
     "execution_count": 224,
     "metadata": {},
     "output_type": "execute_result"
    }
   ],
   "source": [
    "gdf"
   ]
  },
  {
   "cell_type": "markdown",
   "metadata": {},
   "source": [
    "### 2. Load & Inspect the Data"
   ]
  },
  {
   "cell_type": "code",
   "execution_count": 225,
   "metadata": {},
   "outputs": [
    {
     "name": "stdout",
     "output_type": "stream",
     "text": [
      "Number of polygons: 100\n"
     ]
    }
   ],
   "source": [
    "# Count polygons\n",
    "count = 0\n",
    "for gt in gdf.geom_type:\n",
    "    if gt == 'Polygon':\n",
    "        count += 1\n",
    "print(f\"Number of polygons: {count}\")"
   ]
  },
  {
   "cell_type": "code",
   "execution_count": 226,
   "metadata": {},
   "outputs": [
    {
     "data": {
      "text/plain": [
       "<Projected CRS: EPSG:3347>\n",
       "Name: NAD83 / Statistics Canada Lambert\n",
       "Axis Info [cartesian]:\n",
       "- E[east]: Easting (metre)\n",
       "- N[north]: Northing (metre)\n",
       "Area of Use:\n",
       "- name: Canada - onshore and offshore - Alberta; British Columbia; Manitoba; New Brunswick; Newfoundland and Labrador; Northwest Territories; Nova Scotia; Nunavut; Ontario; Prince Edward Island; Quebec; Saskatchewan; Yukon.\n",
       "- bounds: (-141.01, 38.21, -40.73, 86.46)\n",
       "Coordinate Operation:\n",
       "- name: Statistics Canada Lambert\n",
       "- method: Lambert Conic Conformal (2SP)\n",
       "Datum: North American Datum 1983\n",
       "- Ellipsoid: GRS 1980\n",
       "- Prime Meridian: Greenwich"
      ]
     },
     "execution_count": 226,
     "metadata": {},
     "output_type": "execute_result"
    }
   ],
   "source": [
    "# Reproject to projected coordinate system EPSG:3347\n",
    "gdf = gdf.to_crs(epsg=3347)\n",
    "gdf.crs"
   ]
  },
  {
   "cell_type": "code",
   "execution_count": 227,
   "metadata": {},
   "outputs": [
    {
     "name": "stdout",
     "output_type": "stream",
     "text": [
      "Minimum area (km^2): 37.37824723691204\n",
      "Average area (km^2): 80.54003288468247\n",
      "Maximum area (km^2): 132.0955428630858\n"
     ]
    }
   ],
   "source": [
    "# Calculate areas\n",
    "gdf['area_km2'] = gdf.area / (10 ** 6)  # The unit of length in EPSG:3347 is metre as shown above\n",
    "\n",
    "print(f\"Minimum area (km^2): {gdf['area_km2'].min()}\")\n",
    "print(f\"Average area (km^2): {gdf['area_km2'].mean()}\")\n",
    "print(f\"Maximum area (km^2): {gdf['area_km2'].max()}\")"
   ]
  },
  {
   "cell_type": "code",
   "execution_count": 228,
   "metadata": {},
   "outputs": [
    {
     "name": "stdout",
     "output_type": "stream",
     "text": [
      "carbon_sto range: 10.036534572755878 to 99.8608996768998\n",
      "cost range: 524.9516816211429 to 4982.434015347925\n"
     ]
    }
   ],
   "source": [
    "# Ranges of carbon store and cost\n",
    "print(f\"carbon_sto range: {gdf['carbon_sto'].min()} to {gdf['carbon_sto'].max()}\")\n",
    "print(f\"cost range: {gdf['cost'].min()} to {gdf['cost'].max()}\")"
   ]
  },
  {
   "cell_type": "code",
   "execution_count": 229,
   "metadata": {},
   "outputs": [
    {
     "name": "stdout",
     "output_type": "stream",
     "text": [
      "--All summarization of the dataset--\n",
      "Number of polygons: 100\n",
      "Minimum area (km^2): 37.37824723691204\n",
      "Average area (km^2): 80.54003288468247\n",
      "Maximum area (km^2): 132.0955428630858\n",
      "carbon_sto range: 10.036534572755878 to 99.8608996768998\n",
      "cost range: 524.9516816211429 to 4982.434015347925\n"
     ]
    }
   ],
   "source": [
    "# All summarization of the dataset\n",
    "print(\"--All summarization of the dataset--\")\n",
    "print(f\"Number of polygons: {count}\")\n",
    "print(f\"Minimum area (km^2): {gdf['area_km2'].min()}\")\n",
    "print(f\"Average area (km^2): {gdf['area_km2'].mean()}\")\n",
    "print(f\"Maximum area (km^2): {gdf['area_km2'].max()}\")\n",
    "print(f\"carbon_sto range: {gdf['carbon_sto'].min()} to {gdf['carbon_sto'].max()}\")\n",
    "print(f\"cost range: {gdf['cost'].min()} to {gdf['cost'].max()}\")"
   ]
  },
  {
   "cell_type": "markdown",
   "metadata": {},
   "source": [
    "### 3. Reproject & Filter"
   ]
  },
  {
   "cell_type": "code",
   "execution_count": 230,
   "metadata": {},
   "outputs": [
    {
     "name": "stdout",
     "output_type": "stream",
     "text": [
      "Number of removed polygons: 0\n"
     ]
    }
   ],
   "source": [
    "# Reproject to projected coordinate system EPSG:3347\n",
    "gdf = gdf.to_crs(epsg=3347)\n",
    "gdf['area_km2'] = gdf.area / (10 ** 6)\n",
    "\n",
    "# Filter out polygons below a reasonable area threshold\n",
    "# Set threshold 0.1\n",
    "threshold = 0.1\n",
    "gdf_filtered = gdf[gdf['area_km2'] >= threshold]\n",
    "\n",
    "print(f\"Number of removed polygons: {len(gdf) - len(gdf_filtered)}\")"
   ]
  },
  {
   "cell_type": "markdown",
   "metadata": {},
   "source": [
    "### 4. Compute Adjacency"
   ]
  },
  {
   "cell_type": "code",
   "execution_count": 231,
   "metadata": {},
   "outputs": [
    {
     "data": {
      "text/plain": [
       "{0: [1, 10],\n",
       " 1: [0, 2, 11],\n",
       " 2: [1, 3, 12],\n",
       " 3: [2, 4, 13],\n",
       " 4: [3, 5, 14],\n",
       " 5: [4, 6, 15],\n",
       " 6: [5, 7, 16],\n",
       " 7: [6, 8, 17],\n",
       " 8: [7, 9, 18],\n",
       " 9: [8, 19],\n",
       " 10: [0, 11, 20],\n",
       " 11: [1, 10, 12, 21],\n",
       " 12: [2, 11, 13, 22],\n",
       " 13: [3, 12, 14, 23],\n",
       " 14: [4, 13, 15, 24],\n",
       " 15: [5, 14, 16, 25],\n",
       " 16: [6, 15, 17, 26],\n",
       " 17: [7, 16, 18, 27],\n",
       " 18: [8, 17, 19, 28],\n",
       " 19: [9, 18, 29],\n",
       " 20: [10, 21, 30],\n",
       " 21: [11, 20, 22, 31],\n",
       " 22: [12, 21, 23, 32],\n",
       " 23: [13, 22, 24, 33],\n",
       " 24: [14, 23, 25, 34],\n",
       " 25: [15, 24, 26, 35],\n",
       " 26: [16, 25, 27, 36],\n",
       " 27: [17, 26, 28, 37],\n",
       " 28: [18, 27, 29, 38],\n",
       " 29: [19, 28, 39],\n",
       " 30: [20, 31, 40],\n",
       " 31: [21, 30, 32, 41],\n",
       " 32: [22, 31, 33, 42],\n",
       " 33: [23, 32, 34, 43],\n",
       " 34: [24, 33, 35, 44],\n",
       " 35: [25, 34, 36, 45],\n",
       " 36: [26, 35, 37, 46],\n",
       " 37: [27, 36, 38, 47],\n",
       " 38: [28, 37, 39, 48],\n",
       " 39: [29, 38, 49],\n",
       " 40: [30, 41, 50],\n",
       " 41: [31, 40, 42, 51],\n",
       " 42: [32, 41, 43, 52],\n",
       " 43: [33, 42, 44, 53],\n",
       " 44: [34, 43, 45, 54],\n",
       " 45: [35, 44, 46, 55],\n",
       " 46: [36, 45, 47, 56],\n",
       " 47: [37, 46, 48, 57],\n",
       " 48: [38, 47, 49, 58],\n",
       " 49: [39, 48, 59],\n",
       " 50: [40, 51, 60],\n",
       " 51: [41, 50, 52, 61],\n",
       " 52: [42, 51, 53, 62],\n",
       " 53: [43, 52, 54, 63],\n",
       " 54: [44, 53, 55, 64],\n",
       " 55: [45, 54, 56, 65],\n",
       " 56: [46, 55, 57, 66],\n",
       " 57: [47, 56, 58, 67],\n",
       " 58: [48, 57, 59, 68],\n",
       " 59: [49, 58, 69],\n",
       " 60: [50, 61, 70],\n",
       " 61: [51, 60, 62, 71],\n",
       " 62: [52, 61, 63, 72],\n",
       " 63: [53, 62, 64, 73],\n",
       " 64: [54, 63, 65, 74],\n",
       " 65: [55, 64, 66, 75],\n",
       " 66: [56, 65, 67, 76],\n",
       " 67: [57, 66, 68, 77],\n",
       " 68: [58, 67, 69, 78],\n",
       " 69: [59, 68, 79],\n",
       " 70: [60, 71, 80],\n",
       " 71: [61, 70, 72, 81],\n",
       " 72: [62, 71, 73, 82],\n",
       " 73: [63, 72, 74, 83],\n",
       " 74: [64, 73, 75, 84],\n",
       " 75: [65, 74, 76, 85],\n",
       " 76: [66, 75, 77, 86],\n",
       " 77: [67, 76, 78, 87],\n",
       " 78: [68, 77, 79, 88],\n",
       " 79: [69, 78, 89],\n",
       " 80: [70, 81, 90],\n",
       " 81: [71, 80, 82, 91],\n",
       " 82: [72, 81, 83, 92],\n",
       " 83: [73, 82, 84, 93],\n",
       " 84: [74, 83, 85, 94],\n",
       " 85: [75, 84, 86, 95],\n",
       " 86: [76, 85, 87, 96],\n",
       " 87: [77, 86, 88, 97],\n",
       " 88: [78, 87, 89, 98],\n",
       " 89: [79, 88, 99],\n",
       " 90: [80, 91],\n",
       " 91: [81, 90, 92],\n",
       " 92: [82, 91, 93],\n",
       " 93: [83, 92, 94],\n",
       " 94: [84, 93, 95],\n",
       " 95: [85, 94, 96],\n",
       " 96: [86, 95, 97],\n",
       " 97: [87, 96, 98],\n",
       " 98: [88, 97, 99],\n",
       " 99: [89, 98]}"
      ]
     },
     "execution_count": 231,
     "metadata": {},
     "output_type": "execute_result"
    }
   ],
   "source": [
    "adjacency_list = {}\n",
    "gdf_filtered = gdf_filtered.reset_index(drop=True)\n",
    "gdf_filtered_copy = gdf_filtered.copy()\n",
    "\n",
    "for i, poly in gdf_filtered.iterrows():\n",
    "    neighbors = []\n",
    "    for j, other in gdf_filtered_copy.iterrows():\n",
    "        if i != j:\n",
    "            # Check if share an edge\n",
    "            if poly.geometry.touches(other.geometry) and \\\n",
    "            poly.geometry.intersection(other.geometry).length > 0:\n",
    "                    neighbors.append(int(gdf_filtered_copy.loc[j, \"parcel_id\"]))\n",
    "\n",
    "    adjacency_list[int(gdf_filtered.loc[i, \"parcel_id\"])] = neighbors\n",
    "\n",
    "adjacency_list"
   ]
  },
  {
   "cell_type": "markdown",
   "metadata": {},
   "source": [
    "### 5. Optimization Task"
   ]
  },
  {
   "cell_type": "code",
   "execution_count": 232,
   "metadata": {},
   "outputs": [
    {
     "name": "stdout",
     "output_type": "stream",
     "text": [
      "Status of the solver: Optimal\n"
     ]
    }
   ],
   "source": [
    "# Initialize linear programming problem using pulp\n",
    "max_carb_problem = pl.LpProblem(\"Maximize_Total_Carbon_Store\", pl.LpMaximize)\n",
    "\n",
    "# Set up variables\n",
    "variables = {i: pl.LpVariable(f\"x_{int(gdf_filtered.loc[i, 'parcel_id'])}\", cat=\"Binary\") for i in gdf_filtered.index}\n",
    "\n",
    "# Objective:\n",
    "max_carb_problem += pl.lpSum(variables[i] * gdf_filtered.loc[i, 'carbon_sto'] for i in gdf_filtered.index), \"Total_Carbon_Store\"\n",
    "\n",
    "# Constraint #1 (Budget):\n",
    "max_carb_problem += pl.lpSum(variables[i] * gdf_filtered.loc[i, 'cost'] for i in gdf_filtered.index) <= 0.5 * gdf_filtered['cost'].sum(), \"Constraint_1_Budget\"\n",
    "\n",
    "# Constraint #2 (No adjacency):\n",
    "for i, neighbors in adjacency_list.items():\n",
    "    for j in neighbors:\n",
    "        if i < j:\n",
    "            max_carb_problem += variables[i] + variables[j] <= 1, f\"Constraint_2_No_Adjacency_{i}_{j}\"\n",
    "\n",
    "# (Optional) Constraint #3 (Area):\n",
    "max_carb_problem += pl.lpSum(variables[i] * gdf_filtered.loc[i, 'area_km2'] for i in gdf_filtered.index) >= 0.25 * gdf_filtered['area_km2'].sum(), \"Constraint_3_Area\"\n",
    "\n",
    "\n",
    "max_carb_problem.solve()\n",
    "\n",
    "print(f\"Status of the solver: {pl.LpStatus[max_carb_problem.status]}\")"
   ]
  },
  {
   "cell_type": "code",
   "execution_count": 233,
   "metadata": {},
   "outputs": [
    {
     "name": "stdout",
     "output_type": "stream",
     "text": [
      "Chosen polygons: [0, 2, 4, 6, 9, 11, 13, 15, 18, 20, 22, 26, 29, 31, 33, 35, 37, 40, 42, 44, 46, 48, 51, 53, 55, 57, 59, 60, 62, 64, 66, 68, 71, 73, 75, 77, 79, 80, 82, 84, 86, 88, 91, 93, 95, 97, 99]\n",
      "Total cost: 139711.66828591342\n",
      "Total carbon_store: 2841.3958959119273\n"
     ]
    }
   ],
   "source": [
    "chosen_polygons = [i for i in gdf_filtered.index if pl.value(variables[i]) == 1]\n",
    "total_cost = gdf_filtered.loc[chosen_polygons, 'cost'].sum()\n",
    "total_carbon_store = gdf_filtered.loc[chosen_polygons, 'carbon_sto'].sum()\n",
    "\n",
    "if total_carbon_store != pl.value(max_carb_problem.objective):\n",
    "    print(\"Objective function does not equal to the total carbon store\")\n",
    "\n",
    "print(f\"Chosen polygons: {chosen_polygons}\")\n",
    "print(f\"Total cost: {total_cost}\")\n",
    "print(f\"Total carbon_store: {total_carbon_store}\")"
   ]
  },
  {
   "cell_type": "markdown",
   "metadata": {},
   "source": [
    "### 6. Results & Discussion"
   ]
  },
  {
   "cell_type": "code",
   "execution_count": 234,
   "metadata": {},
   "outputs": [
    {
     "name": "stdout",
     "output_type": "stream",
     "text": [
      "--Summary--\n",
      "Number of chosen polygons: 47\n",
      "Sum of carbon_sto for the chosen set: 2841.3958959119273\n",
      "Total cost: 139711.66828591342 vs. Budget: 140963.08493486073\n",
      "\n",
      "interesting edge cases:\n",
      "Average carbon store of chosen polygons: 60.455231827913344\n",
      "Average cost of chosen polygons: 2972.588686934328\n",
      "Average carbon store of excluded polygons: 52.153109089468835\n",
      "Average cost of excluded polygons: 2683.292482713359\n",
      "\n",
      "Top 5 excluded carbon store polygons:\n",
      "    carbon_sto         cost   area_km2\n",
      "54   98.303472  2912.970796  79.089484\n",
      "56   97.336055  1303.555173  92.872225\n",
      "52   97.020019  1756.062467  53.059234\n",
      "74   91.252499  3269.817122  63.622085\n",
      "34   90.903217  1445.344423  99.901379\n",
      "\n",
      "Some polygons have very high carbon store are excluded even though they have \n",
      "relative low cost compared to the average carbon store of chosen polygons.\n",
      "This may due to the No Adjacency constraint.\n"
     ]
    }
   ],
   "source": [
    "print(\"--Summary--\")\n",
    "print(f\"Number of chosen polygons: {len(chosen_polygons)}\")\n",
    "print(f\"Sum of carbon_sto for the chosen set: {total_carbon_store}\")\n",
    "print(f\"Total cost: {total_cost} vs. Budget: {0.5 * gdf_filtered['cost'].sum()}\")\n",
    "\n",
    "print()\n",
    "print(\"interesting edge cases:\")\n",
    "chosen_polygons_rows = gdf_filtered.loc[gdf_filtered.index.isin(chosen_polygons)]\n",
    "print(f\"Average carbon store of chosen polygons: {chosen_polygons_rows['carbon_sto'].mean()}\")\n",
    "print(f\"Average cost of chosen polygons: {chosen_polygons_rows['cost'].mean()}\")\n",
    "\n",
    "excluded_polygons_rows = gdf_filtered.loc[~gdf_filtered.index.isin(chosen_polygons)]\n",
    "print(f\"Average carbon store of excluded polygons: {excluded_polygons_rows['carbon_sto'].mean()}\")\n",
    "print(f\"Average cost of excluded polygons: {excluded_polygons_rows['cost'].mean()}\")\n",
    "\n",
    "top_excluded_rows = excluded_polygons_rows.sort_values('carbon_sto', ascending=False).head(5)\n",
    "\n",
    "print()\n",
    "print(f\"Top 5 excluded carbon store polygons:\\n{top_excluded_rows[['carbon_sto', 'cost', 'area_km2']]}\")\n",
    "print()\n",
    "print(\"\"\"Some polygons have very high carbon store are excluded even though they have \n",
    "relative low cost compared to the average carbon store of chosen polygons.\n",
    "This may due to the No Adjacency constraint.\"\"\")"
   ]
  },
  {
   "cell_type": "markdown",
   "metadata": {},
   "source": [
    "### Plot the Chosen Polygons"
   ]
  },
  {
   "cell_type": "code",
   "execution_count": 235,
   "metadata": {},
   "outputs": [
    {
     "data": {
      "image/png": "[encoded data removed]",
      "text/plain": [
       "<Figure size 1000x800 with 1 Axes>"
      ]
     },
     "metadata": {},
     "output_type": "display_data"
    }
   ],
   "source": [
    "gdf_filtered['chosen'] = gdf_filtered.index.isin(chosen_polygons)\n",
    "\n",
    "fig, ax = plt.subplots(figsize=(10, 8))\n",
    "\n",
    "# Plot chosen polygons\n",
    "gdf_filtered[gdf_filtered['chosen']].plot(ax=ax, color='blue', edgecolor='black', linewidth=0.5, label='Chosen')\n",
    "\n",
    "# Plot excluded polygons\n",
    "gdf_filtered[~gdf_filtered['chosen']].plot(ax=ax, color='gainsboro', edgecolor='black', linewidth=0.5, label='Excluded')\n",
    "\n",
    "chosen_patch = mpatches.Patch(color='blue', label='Chosen')\n",
    "excluded_patch = mpatches.Patch(color='gainsboro', label='Excluded')\n",
    "plt.legend(handles=[chosen_patch, excluded_patch])\n",
    "\n",
    "plt.title('Chosen vs Excluded Polygons')\n",
    "plt.xlabel('X')\n",
    "plt.ylabel('Y')\n",
    "plt.show()\n"
   ]
  }
 ],
 "metadata": {
  "kernelspec": {
   "display_name": "spatialvenv2",
   "language": "python",
   "name": "python3"
  },
  "language_info": {
   "codemirror_mode": {
    "name": "ipython",
    "version": 3
   },
   "file_extension": ".py",
   "mimetype": "text/x-python",
   "name": "python",
   "nbconvert_exporter": "python",
   "pygments_lexer": "ipython3",
   "version": "3.9.13"
  }
 },
 "nbformat": 4,
 "nbformat_minor": 2
}
